{
 "cells": [
  {
   "cell_type": "markdown",
   "metadata": {},
   "source": [
    "### Data Science Interviews Group Study (Spring 2017)\n",
    "- Brian Goodness\n",
    "- Assignment 3: Employee Retention"
   ]
  },
  {
   "cell_type": "markdown",
   "metadata": {},
   "source": [
    "# Objectives:\n",
    "\n",
    "- Predict when employees are going to quit by understanding the main drivers of employee churn\n",
    "\n",
    "- Estimate employee headcount, for each company, on each day, from 2011/01/24 to 2015/12/13\n",
    "\n",
    "    - Create a table with 3 columns: **`day, employee_headcount, company_id`**\n",
    "\n",
    "- What are the main factors that drive employee churn? Do they make sense? Explain your findings"
   ]
  },
  {
   "cell_type": "markdown",
   "metadata": {},
   "source": [
    "#### Question: If you could add to this data set just one variable that could help explain employee churn, what would that be?\n",
    "- Response: # of hours that employee worked each day (e.g., based on computer log-in/logout timestamps)"
   ]
  },
  {
   "cell_type": "code",
   "execution_count": 1,
   "metadata": {
    "collapsed": false
   },
   "outputs": [],
   "source": [
    "import pandas as pd\n",
    "#import statsmodels.api as sm\n",
    "import pylab as pl\n",
    "import numpy as np"
   ]
  },
  {
   "cell_type": "markdown",
   "metadata": {},
   "source": [
    "### helper functions"
   ]
  },
  {
   "cell_type": "code",
   "execution_count": 2,
   "metadata": {
    "collapsed": true
   },
   "outputs": [],
   "source": [
    "# tabulate method\n",
    "def tab(frame, field):\n",
    "    result = pd.DataFrame(frame[field].value_counts())\n",
    "    result['percent'] = result[field]/result[field].sum()*100\n",
    "    return result"
   ]
  },
  {
   "cell_type": "code",
   "execution_count": 3,
   "metadata": {
    "collapsed": true
   },
   "outputs": [],
   "source": [
    "# crosstab method (to include percentages)\n",
    "def crosstab_pcts(frame, row, column):\n",
    "    ctab = pd.crosstab(frame[row], frame[column])\n",
    "    for field in ctab.columns:\n",
    "        ctab['%s_pct' % field] = ctab[field]/ctab[field].sum()*100\n",
    "    return ctab"
   ]
  },
  {
   "cell_type": "markdown",
   "metadata": {},
   "source": [
    "### load data; inspect"
   ]
  },
  {
   "cell_type": "code",
   "execution_count": 4,
   "metadata": {
    "collapsed": false
   },
   "outputs": [],
   "source": [
    "data = pd.read_csv('employee_retention_data.csv')\n",
    "data.quit_date.fillna('2015/12/13', inplace=True) # replace NaN with last date in dataset\n",
    "data.join_date = pd.to_datetime(data.join_date)\n",
    "data.quit_date = pd.to_datetime(data.quit_date)"
   ]
  },
  {
   "cell_type": "code",
   "execution_count": 5,
   "metadata": {
    "collapsed": false
   },
   "outputs": [
    {
     "name": "stdout",
     "output_type": "stream",
     "text": [
      "Dataset Size: 24702\n",
      "\n",
      "Min Date: 2011-01-24 00:00:00, Max Date: 2015-12-10 00:00:00\n",
      "\n",
      "Companies:     company_id    percent\n",
      "1         8486  34.353494\n",
      "2         4222  17.091733\n",
      "3         2749  11.128654\n",
      "4         2062   8.347502\n",
      "5         1755   7.104688\n",
      "6         1291   5.226297\n",
      "7         1224   4.955064\n",
      "8         1047   4.238523\n",
      "9          961   3.890373\n",
      "10         865   3.501741\n",
      "12          24   0.097158\n",
      "11          16   0.064772\n",
      "\n",
      "Departments:                   dept    percent\n",
      "customer_service  9180  37.162983\n",
      "engineer          4613  18.674601\n",
      "data_science      3190  12.913934\n",
      "sales             3172  12.841066\n",
      "marketing         3167  12.820824\n",
      "design            1380   5.586592\n"
     ]
    },
    {
     "data": {
      "text/html": [
       "<div>\n",
       "<table border=\"1\" class=\"dataframe\">\n",
       "  <thead>\n",
       "    <tr style=\"text-align: right;\">\n",
       "      <th></th>\n",
       "      <th>employee_id</th>\n",
       "      <th>company_id</th>\n",
       "      <th>dept</th>\n",
       "      <th>seniority</th>\n",
       "      <th>salary</th>\n",
       "      <th>join_date</th>\n",
       "      <th>quit_date</th>\n",
       "    </tr>\n",
       "  </thead>\n",
       "  <tbody>\n",
       "    <tr>\n",
       "      <th>0</th>\n",
       "      <td>13021.0</td>\n",
       "      <td>7</td>\n",
       "      <td>customer_service</td>\n",
       "      <td>28</td>\n",
       "      <td>89000.0</td>\n",
       "      <td>2014-03-24</td>\n",
       "      <td>2015-10-30</td>\n",
       "    </tr>\n",
       "    <tr>\n",
       "      <th>1</th>\n",
       "      <td>825355.0</td>\n",
       "      <td>7</td>\n",
       "      <td>marketing</td>\n",
       "      <td>20</td>\n",
       "      <td>183000.0</td>\n",
       "      <td>2013-04-29</td>\n",
       "      <td>2014-04-04</td>\n",
       "    </tr>\n",
       "    <tr>\n",
       "      <th>2</th>\n",
       "      <td>927315.0</td>\n",
       "      <td>4</td>\n",
       "      <td>marketing</td>\n",
       "      <td>14</td>\n",
       "      <td>101000.0</td>\n",
       "      <td>2014-10-13</td>\n",
       "      <td>2015-12-13</td>\n",
       "    </tr>\n",
       "    <tr>\n",
       "      <th>3</th>\n",
       "      <td>662910.0</td>\n",
       "      <td>7</td>\n",
       "      <td>customer_service</td>\n",
       "      <td>20</td>\n",
       "      <td>115000.0</td>\n",
       "      <td>2012-05-14</td>\n",
       "      <td>2013-06-07</td>\n",
       "    </tr>\n",
       "    <tr>\n",
       "      <th>4</th>\n",
       "      <td>256971.0</td>\n",
       "      <td>2</td>\n",
       "      <td>data_science</td>\n",
       "      <td>23</td>\n",
       "      <td>276000.0</td>\n",
       "      <td>2011-10-17</td>\n",
       "      <td>2014-08-22</td>\n",
       "    </tr>\n",
       "    <tr>\n",
       "      <th>5</th>\n",
       "      <td>509529.0</td>\n",
       "      <td>4</td>\n",
       "      <td>data_science</td>\n",
       "      <td>14</td>\n",
       "      <td>165000.0</td>\n",
       "      <td>2012-01-30</td>\n",
       "      <td>2013-08-30</td>\n",
       "    </tr>\n",
       "    <tr>\n",
       "      <th>6</th>\n",
       "      <td>88600.0</td>\n",
       "      <td>4</td>\n",
       "      <td>customer_service</td>\n",
       "      <td>21</td>\n",
       "      <td>107000.0</td>\n",
       "      <td>2013-10-21</td>\n",
       "      <td>2015-12-13</td>\n",
       "    </tr>\n",
       "    <tr>\n",
       "      <th>7</th>\n",
       "      <td>716309.0</td>\n",
       "      <td>2</td>\n",
       "      <td>customer_service</td>\n",
       "      <td>4</td>\n",
       "      <td>30000.0</td>\n",
       "      <td>2014-03-05</td>\n",
       "      <td>2015-12-13</td>\n",
       "    </tr>\n",
       "    <tr>\n",
       "      <th>8</th>\n",
       "      <td>172999.0</td>\n",
       "      <td>9</td>\n",
       "      <td>engineer</td>\n",
       "      <td>7</td>\n",
       "      <td>160000.0</td>\n",
       "      <td>2012-12-10</td>\n",
       "      <td>2015-10-23</td>\n",
       "    </tr>\n",
       "    <tr>\n",
       "      <th>9</th>\n",
       "      <td>504159.0</td>\n",
       "      <td>1</td>\n",
       "      <td>sales</td>\n",
       "      <td>7</td>\n",
       "      <td>104000.0</td>\n",
       "      <td>2012-06-12</td>\n",
       "      <td>2015-12-13</td>\n",
       "    </tr>\n",
       "  </tbody>\n",
       "</table>\n",
       "</div>"
      ],
      "text/plain": [
       "   employee_id  company_id              dept  seniority    salary  join_date  \\\n",
       "0      13021.0           7  customer_service         28   89000.0 2014-03-24   \n",
       "1     825355.0           7         marketing         20  183000.0 2013-04-29   \n",
       "2     927315.0           4         marketing         14  101000.0 2014-10-13   \n",
       "3     662910.0           7  customer_service         20  115000.0 2012-05-14   \n",
       "4     256971.0           2      data_science         23  276000.0 2011-10-17   \n",
       "5     509529.0           4      data_science         14  165000.0 2012-01-30   \n",
       "6      88600.0           4  customer_service         21  107000.0 2013-10-21   \n",
       "7     716309.0           2  customer_service          4   30000.0 2014-03-05   \n",
       "8     172999.0           9          engineer          7  160000.0 2012-12-10   \n",
       "9     504159.0           1             sales          7  104000.0 2012-06-12   \n",
       "\n",
       "   quit_date  \n",
       "0 2015-10-30  \n",
       "1 2014-04-04  \n",
       "2 2015-12-13  \n",
       "3 2013-06-07  \n",
       "4 2014-08-22  \n",
       "5 2013-08-30  \n",
       "6 2015-12-13  \n",
       "7 2015-12-13  \n",
       "8 2015-10-23  \n",
       "9 2015-12-13  "
      ]
     },
     "execution_count": 5,
     "metadata": {},
     "output_type": "execute_result"
    }
   ],
   "source": [
    "### inspect data\n",
    "print('Dataset Size: %s' % len(data))\n",
    "print('\\nMin Date: %s, Max Date: %s' % (np.min(data.join_date), np.max(data.join_date)))\n",
    "print('\\nCompanies: %s' % tab(data, 'company_id'))\n",
    "print('\\nDepartments: %s' % tab(data, 'dept'))\n",
    "data.head(10)"
   ]
  },
  {
   "cell_type": "code",
   "execution_count": 6,
   "metadata": {
    "collapsed": false
   },
   "outputs": [],
   "source": [
    "# create datelist iterator for min/max dates\n",
    "import datetime\n",
    "start_date = datetime.datetime.strptime('2011/01/24', '%Y/%m/%d')\n",
    "end_date = datetime.datetime.strptime('2015/12/13', '%Y/%m/%d')\n",
    "numdays = (end_date - start_date).days\n",
    "date_list = [start_date + datetime.timedelta(days=x) for x in range(0, numdays+1)]"
   ]
  },
  {
   "cell_type": "code",
   "execution_count": 7,
   "metadata": {
    "collapsed": false
   },
   "outputs": [
    {
     "name": "stdout",
     "output_type": "stream",
     "text": [
      "time elapsed: 23.785020351409912\n"
     ]
    }
   ],
   "source": [
    "# create date range dummies based on employee's join/quit dates\n",
    "import time\n",
    "t0 = time.time()\n",
    "for date in date_list:\n",
    "    data[date] = ((data.join_date <= date) & (data.quit_date >= date)).map(lambda x: 1 if x else 0)\n",
    "print('time elapsed: %s' % (time.time() - t0))"
   ]
  },
  {
   "cell_type": "code",
   "execution_count": 8,
   "metadata": {
    "collapsed": false
   },
   "outputs": [
    {
     "data": {
      "text/html": [
       "<div>\n",
       "<table border=\"1\" class=\"dataframe\">\n",
       "  <thead>\n",
       "    <tr style=\"text-align: right;\">\n",
       "      <th></th>\n",
       "      <th>employee_id</th>\n",
       "      <th>company_id</th>\n",
       "      <th>dept</th>\n",
       "      <th>seniority</th>\n",
       "      <th>salary</th>\n",
       "      <th>join_date</th>\n",
       "      <th>quit_date</th>\n",
       "      <th>2011-01-24 00:00:00</th>\n",
       "      <th>2011-01-25 00:00:00</th>\n",
       "      <th>2011-01-26 00:00:00</th>\n",
       "      <th>...</th>\n",
       "      <th>2015-12-04 00:00:00</th>\n",
       "      <th>2015-12-05 00:00:00</th>\n",
       "      <th>2015-12-06 00:00:00</th>\n",
       "      <th>2015-12-07 00:00:00</th>\n",
       "      <th>2015-12-08 00:00:00</th>\n",
       "      <th>2015-12-09 00:00:00</th>\n",
       "      <th>2015-12-10 00:00:00</th>\n",
       "      <th>2015-12-11 00:00:00</th>\n",
       "      <th>2015-12-12 00:00:00</th>\n",
       "      <th>2015-12-13 00:00:00</th>\n",
       "    </tr>\n",
       "  </thead>\n",
       "  <tbody>\n",
       "    <tr>\n",
       "      <th>15523</th>\n",
       "      <td>581263.0</td>\n",
       "      <td>1</td>\n",
       "      <td>sales</td>\n",
       "      <td>5</td>\n",
       "      <td>118000.0</td>\n",
       "      <td>2011-01-24</td>\n",
       "      <td>2011-10-21</td>\n",
       "      <td>1</td>\n",
       "      <td>1</td>\n",
       "      <td>1</td>\n",
       "      <td>...</td>\n",
       "      <td>0</td>\n",
       "      <td>0</td>\n",
       "      <td>0</td>\n",
       "      <td>0</td>\n",
       "      <td>0</td>\n",
       "      <td>0</td>\n",
       "      <td>0</td>\n",
       "      <td>0</td>\n",
       "      <td>0</td>\n",
       "      <td>0</td>\n",
       "    </tr>\n",
       "    <tr>\n",
       "      <th>7848</th>\n",
       "      <td>149299.0</td>\n",
       "      <td>5</td>\n",
       "      <td>marketing</td>\n",
       "      <td>18</td>\n",
       "      <td>147000.0</td>\n",
       "      <td>2011-01-24</td>\n",
       "      <td>2011-12-16</td>\n",
       "      <td>1</td>\n",
       "      <td>1</td>\n",
       "      <td>1</td>\n",
       "      <td>...</td>\n",
       "      <td>0</td>\n",
       "      <td>0</td>\n",
       "      <td>0</td>\n",
       "      <td>0</td>\n",
       "      <td>0</td>\n",
       "      <td>0</td>\n",
       "      <td>0</td>\n",
       "      <td>0</td>\n",
       "      <td>0</td>\n",
       "      <td>0</td>\n",
       "    </tr>\n",
       "    <tr>\n",
       "      <th>10853</th>\n",
       "      <td>18837.0</td>\n",
       "      <td>4</td>\n",
       "      <td>customer_service</td>\n",
       "      <td>15</td>\n",
       "      <td>98000.0</td>\n",
       "      <td>2011-01-24</td>\n",
       "      <td>2011-12-16</td>\n",
       "      <td>1</td>\n",
       "      <td>1</td>\n",
       "      <td>1</td>\n",
       "      <td>...</td>\n",
       "      <td>0</td>\n",
       "      <td>0</td>\n",
       "      <td>0</td>\n",
       "      <td>0</td>\n",
       "      <td>0</td>\n",
       "      <td>0</td>\n",
       "      <td>0</td>\n",
       "      <td>0</td>\n",
       "      <td>0</td>\n",
       "      <td>0</td>\n",
       "    </tr>\n",
       "    <tr>\n",
       "      <th>19558</th>\n",
       "      <td>527591.0</td>\n",
       "      <td>2</td>\n",
       "      <td>engineer</td>\n",
       "      <td>11</td>\n",
       "      <td>178000.0</td>\n",
       "      <td>2011-01-24</td>\n",
       "      <td>2011-12-16</td>\n",
       "      <td>1</td>\n",
       "      <td>1</td>\n",
       "      <td>1</td>\n",
       "      <td>...</td>\n",
       "      <td>0</td>\n",
       "      <td>0</td>\n",
       "      <td>0</td>\n",
       "      <td>0</td>\n",
       "      <td>0</td>\n",
       "      <td>0</td>\n",
       "      <td>0</td>\n",
       "      <td>0</td>\n",
       "      <td>0</td>\n",
       "      <td>0</td>\n",
       "    </tr>\n",
       "    <tr>\n",
       "      <th>2402</th>\n",
       "      <td>490535.0</td>\n",
       "      <td>8</td>\n",
       "      <td>data_science</td>\n",
       "      <td>7</td>\n",
       "      <td>163000.0</td>\n",
       "      <td>2011-01-24</td>\n",
       "      <td>2011-12-23</td>\n",
       "      <td>1</td>\n",
       "      <td>1</td>\n",
       "      <td>1</td>\n",
       "      <td>...</td>\n",
       "      <td>0</td>\n",
       "      <td>0</td>\n",
       "      <td>0</td>\n",
       "      <td>0</td>\n",
       "      <td>0</td>\n",
       "      <td>0</td>\n",
       "      <td>0</td>\n",
       "      <td>0</td>\n",
       "      <td>0</td>\n",
       "      <td>0</td>\n",
       "    </tr>\n",
       "  </tbody>\n",
       "</table>\n",
       "<p>5 rows × 1792 columns</p>\n",
       "</div>"
      ],
      "text/plain": [
       "       employee_id  company_id              dept  seniority    salary  \\\n",
       "15523     581263.0           1             sales          5  118000.0   \n",
       "7848      149299.0           5         marketing         18  147000.0   \n",
       "10853      18837.0           4  customer_service         15   98000.0   \n",
       "19558     527591.0           2          engineer         11  178000.0   \n",
       "2402      490535.0           8      data_science          7  163000.0   \n",
       "\n",
       "       join_date  quit_date  2011-01-24 00:00:00  2011-01-25 00:00:00  \\\n",
       "15523 2011-01-24 2011-10-21                    1                    1   \n",
       "7848  2011-01-24 2011-12-16                    1                    1   \n",
       "10853 2011-01-24 2011-12-16                    1                    1   \n",
       "19558 2011-01-24 2011-12-16                    1                    1   \n",
       "2402  2011-01-24 2011-12-23                    1                    1   \n",
       "\n",
       "       2011-01-26 00:00:00         ...           2015-12-04 00:00:00  \\\n",
       "15523                    1         ...                             0   \n",
       "7848                     1         ...                             0   \n",
       "10853                    1         ...                             0   \n",
       "19558                    1         ...                             0   \n",
       "2402                     1         ...                             0   \n",
       "\n",
       "       2015-12-05 00:00:00  2015-12-06 00:00:00  2015-12-07 00:00:00  \\\n",
       "15523                    0                    0                    0   \n",
       "7848                     0                    0                    0   \n",
       "10853                    0                    0                    0   \n",
       "19558                    0                    0                    0   \n",
       "2402                     0                    0                    0   \n",
       "\n",
       "       2015-12-08 00:00:00  2015-12-09 00:00:00  2015-12-10 00:00:00  \\\n",
       "15523                    0                    0                    0   \n",
       "7848                     0                    0                    0   \n",
       "10853                    0                    0                    0   \n",
       "19558                    0                    0                    0   \n",
       "2402                     0                    0                    0   \n",
       "\n",
       "       2015-12-11 00:00:00  2015-12-12 00:00:00  2015-12-13 00:00:00  \n",
       "15523                    0                    0                    0  \n",
       "7848                     0                    0                    0  \n",
       "10853                    0                    0                    0  \n",
       "19558                    0                    0                    0  \n",
       "2402                     0                    0                    0  \n",
       "\n",
       "[5 rows x 1792 columns]"
      ]
     },
     "execution_count": 8,
     "metadata": {},
     "output_type": "execute_result"
    }
   ],
   "source": [
    "# inspect new columns\n",
    "data.sort_values(['join_date','quit_date']).head()"
   ]
  },
  {
   "cell_type": "code",
   "execution_count": 9,
   "metadata": {
    "collapsed": false
   },
   "outputs": [
    {
     "data": {
      "text/html": [
       "<div>\n",
       "<table border=\"1\" class=\"dataframe\">\n",
       "  <thead>\n",
       "    <tr style=\"text-align: right;\">\n",
       "      <th></th>\n",
       "      <th>company_id</th>\n",
       "      <th>date</th>\n",
       "      <th>employee_count</th>\n",
       "    </tr>\n",
       "  </thead>\n",
       "  <tbody>\n",
       "    <tr>\n",
       "      <th>0</th>\n",
       "      <td>1</td>\n",
       "      <td>2011-01-24</td>\n",
       "      <td>25</td>\n",
       "    </tr>\n",
       "    <tr>\n",
       "      <th>1</th>\n",
       "      <td>2</td>\n",
       "      <td>2011-01-24</td>\n",
       "      <td>17</td>\n",
       "    </tr>\n",
       "    <tr>\n",
       "      <th>2</th>\n",
       "      <td>3</td>\n",
       "      <td>2011-01-24</td>\n",
       "      <td>9</td>\n",
       "    </tr>\n",
       "    <tr>\n",
       "      <th>3</th>\n",
       "      <td>4</td>\n",
       "      <td>2011-01-24</td>\n",
       "      <td>12</td>\n",
       "    </tr>\n",
       "    <tr>\n",
       "      <th>4</th>\n",
       "      <td>5</td>\n",
       "      <td>2011-01-24</td>\n",
       "      <td>5</td>\n",
       "    </tr>\n",
       "  </tbody>\n",
       "</table>\n",
       "</div>"
      ],
      "text/plain": [
       "   company_id       date  employee_count\n",
       "0           1 2011-01-24              25\n",
       "1           2 2011-01-24              17\n",
       "2           3 2011-01-24               9\n",
       "3           4 2011-01-24              12\n",
       "4           5 2011-01-24               5"
      ]
     },
     "execution_count": 9,
     "metadata": {},
     "output_type": "execute_result"
    }
   ],
   "source": [
    "# calculate employee headcounts in each company, by day\n",
    "employee_counts = data.groupby('company_id').sum()\n",
    "del employee_counts['employee_id']\n",
    "del employee_counts['seniority']\n",
    "del employee_counts['salary']\n",
    "\n",
    "# pivot table\n",
    "employee_counts = employee_counts.reset_index()\n",
    "employee_counts = pd.melt(employee_counts, id_vars=['company_id'], var_name='date', value_name='employee_count')\n",
    "employee_counts.head()"
   ]
  },
  {
   "cell_type": "code",
   "execution_count": 12,
   "metadata": {
    "collapsed": false
   },
   "outputs": [
    {
     "data": {
      "text/plain": [
       "<matplotlib.axes._subplots.AxesSubplot at 0x7fe0d6bd8518>"
      ]
     },
     "execution_count": 12,
     "metadata": {},
     "output_type": "execute_result"
    },
    {
     "data": {
      "image/png": "[encoded data removed]",
      "text/plain": [
       "<matplotlib.figure.Figure at 0x7fe0d6bdb240>"
      ]
     },
     "metadata": {},
     "output_type": "display_data"
    }
   ],
   "source": [
    "# plot employee counts over time, across companies\n",
    "import matplotlib.pyplot as plt\n",
    "%matplotlib inline\n",
    "employee_counts.pivot('date', 'company_id', 'employee_count').plot()"
   ]
  },
  {
   "cell_type": "code",
   "execution_count": 11,
   "metadata": {
    "collapsed": false
   },
   "outputs": [
    {
     "name": "stderr",
     "output_type": "stream",
     "text": [
      "/home/briangoodness/anaconda3/envs/py3/lib/python3.5/site-packages/statsmodels/nonparametric/kdetools.py:20: VisibleDeprecationWarning: using a non-integer number instead of an integer will result in an error in the future\n",
      "  y = X[:m/2+1] + np.r_[0,X[m/2+1:],0]*1j\n"
     ]
    },
    {
     "data": {
      "image/png": "[encoded data removed]",
      "text/plain": [
       "<matplotlib.figure.Figure at 0x7fe0f6183940>"
      ]
     },
     "metadata": {},
     "output_type": "display_data"
    }
   ],
   "source": [
    "# plot histogram of seniority\n",
    "import seaborn as sns\n",
    "dp = sns.distplot(data['seniority'])"
   ]
  }
 ],
 "metadata": {
  "anaconda-cloud": {},
  "kernelspec": {
   "display_name": "Python [conda env:py3]",
   "language": "python",
   "name": "conda-env-py3-py"
  },
  "language_info": {
   "codemirror_mode": {
    "name": "ipython",
    "version": 3
   },
   "file_extension": ".py",
   "mimetype": "text/x-python",
   "name": "python",
   "nbconvert_exporter": "python",
   "pygments_lexer": "ipython3",
   "version": "3.5.2"
  }
 },
 "nbformat": 4,
 "nbformat_minor": 1
}

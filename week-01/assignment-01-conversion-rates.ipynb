{
 "cells": [
  {
   "cell_type": "markdown",
   "metadata": {},
   "source": [
    "### Data Science Interviews Group Study (Spring 2017)\n",
    "- Brian Goodness\n",
    "- Assignment 1: Conversion Rates"
   ]
  },
  {
   "cell_type": "code",
   "execution_count": 16,
   "metadata": {
    "collapsed": false
   },
   "outputs": [],
   "source": [
    "import pandas as pd\n",
    "import statsmodels.api as sm\n",
    "import pylab as pl\n",
    "import numpy as np"
   ]
  },
  {
   "cell_type": "markdown",
   "metadata": {},
   "source": [
    "### load data; inspect"
   ]
  },
  {
   "cell_type": "code",
   "execution_count": 17,
   "metadata": {
    "collapsed": true
   },
   "outputs": [],
   "source": [
    "df = pd.read_csv('conversion_data.csv')"
   ]
  },
  {
   "cell_type": "code",
   "execution_count": 18,
   "metadata": {
    "collapsed": false
   },
   "outputs": [
    {
     "data": {
      "text/html": [
       "<div>\n",
       "<table border=\"1\" class=\"dataframe\">\n",
       "  <thead>\n",
       "    <tr style=\"text-align: right;\">\n",
       "      <th></th>\n",
       "      <th>country</th>\n",
       "      <th>age</th>\n",
       "      <th>new_user</th>\n",
       "      <th>source</th>\n",
       "      <th>total_pages_visited</th>\n",
       "      <th>converted</th>\n",
       "    </tr>\n",
       "  </thead>\n",
       "  <tbody>\n",
       "    <tr>\n",
       "      <th>0</th>\n",
       "      <td>UK</td>\n",
       "      <td>25</td>\n",
       "      <td>1</td>\n",
       "      <td>Ads</td>\n",
       "      <td>1</td>\n",
       "      <td>0</td>\n",
       "    </tr>\n",
       "    <tr>\n",
       "      <th>1</th>\n",
       "      <td>US</td>\n",
       "      <td>23</td>\n",
       "      <td>1</td>\n",
       "      <td>Seo</td>\n",
       "      <td>5</td>\n",
       "      <td>0</td>\n",
       "    </tr>\n",
       "    <tr>\n",
       "      <th>2</th>\n",
       "      <td>US</td>\n",
       "      <td>28</td>\n",
       "      <td>1</td>\n",
       "      <td>Seo</td>\n",
       "      <td>4</td>\n",
       "      <td>0</td>\n",
       "    </tr>\n",
       "    <tr>\n",
       "      <th>3</th>\n",
       "      <td>China</td>\n",
       "      <td>39</td>\n",
       "      <td>1</td>\n",
       "      <td>Seo</td>\n",
       "      <td>5</td>\n",
       "      <td>0</td>\n",
       "    </tr>\n",
       "    <tr>\n",
       "      <th>4</th>\n",
       "      <td>US</td>\n",
       "      <td>30</td>\n",
       "      <td>1</td>\n",
       "      <td>Seo</td>\n",
       "      <td>6</td>\n",
       "      <td>0</td>\n",
       "    </tr>\n",
       "  </tbody>\n",
       "</table>\n",
       "</div>"
      ],
      "text/plain": [
       "  country  age  new_user source  total_pages_visited  converted\n",
       "0      UK   25         1    Ads                    1          0\n",
       "1      US   23         1    Seo                    5          0\n",
       "2      US   28         1    Seo                    4          0\n",
       "3   China   39         1    Seo                    5          0\n",
       "4      US   30         1    Seo                    6          0"
      ]
     },
     "execution_count": 18,
     "metadata": {},
     "output_type": "execute_result"
    }
   ],
   "source": [
    "df.head()"
   ]
  },
  {
   "cell_type": "code",
   "execution_count": 19,
   "metadata": {
    "collapsed": false
   },
   "outputs": [
    {
     "data": {
      "text/plain": [
       "country                object\n",
       "age                     int64\n",
       "new_user                int64\n",
       "source                 object\n",
       "total_pages_visited     int64\n",
       "converted               int64\n",
       "dtype: object"
      ]
     },
     "execution_count": 19,
     "metadata": {},
     "output_type": "execute_result"
    }
   ],
   "source": [
    "df.dtypes"
   ]
  },
  {
   "cell_type": "code",
   "execution_count": 20,
   "metadata": {
    "collapsed": false
   },
   "outputs": [],
   "source": [
    "# tabulate method\n",
    "def tab(frame, field):\n",
    "    result = pd.DataFrame(df[field].value_counts())\n",
    "    result['percent'] = result[field]/result[field].sum()*100\n",
    "    return result"
   ]
  },
  {
   "cell_type": "code",
   "execution_count": 21,
   "metadata": {
    "collapsed": true
   },
   "outputs": [],
   "source": [
    "# crosstab method (to include percentages)\n",
    "def crosstab_pcts(frame, row, column):\n",
    "    ctab = pd.crosstab(df[row], df[column])\n",
    "    for field in ctab.columns:\n",
    "        ctab['%s_pct' % field] = ctab[field]/ctab[field].sum()*100\n",
    "    return ctab"
   ]
  },
  {
   "cell_type": "code",
   "execution_count": 22,
   "metadata": {
    "collapsed": false
   },
   "outputs": [
    {
     "name": "stdout",
     "output_type": "stream",
     "text": [
      "\n",
      "Field: country\n",
      "         country    percent\n",
      "US        178092  56.322581\n",
      "China      76602  24.225806\n",
      "UK         48450  15.322581\n",
      "Germany    13056   4.129032\n",
      "\n",
      "Field: new_user\n",
      "   new_user   percent\n",
      "1    216744  68.54649\n",
      "0     99456  31.45351\n",
      "\n",
      "Field: source\n",
      "        source    percent\n",
      "Seo     155040  49.032258\n",
      "Ads      88740  28.064516\n",
      "Direct   72420  22.903226\n",
      "\n",
      "Field: converted\n",
      "   converted    percent\n",
      "0     306000  96.774194\n",
      "1      10200   3.225806\n"
     ]
    }
   ],
   "source": [
    "# tabulate fields, see splits\n",
    "for field in ['country','new_user','source','converted']:\n",
    "    print('\\nField: %s' % field)\n",
    "    print(tab(frame=df,field=field))"
   ]
  },
  {
   "cell_type": "code",
   "execution_count": 23,
   "metadata": {
    "collapsed": false
   },
   "outputs": [
    {
     "data": {
      "image/png": "[encoded data removed]",
      "text/plain": [
       "<matplotlib.figure.Figure at 0x7f5de9f1ff98>"
      ]
     },
     "metadata": {},
     "output_type": "display_data"
    }
   ],
   "source": [
    "df.hist()\n",
    "pl.show()"
   ]
  },
  {
   "cell_type": "code",
   "execution_count": 24,
   "metadata": {
    "collapsed": false
   },
   "outputs": [
    {
     "data": {
      "text/html": [
       "<div>\n",
       "<table border=\"1\" class=\"dataframe\">\n",
       "  <thead>\n",
       "    <tr style=\"text-align: right;\">\n",
       "      <th>new_user</th>\n",
       "      <th>0</th>\n",
       "      <th>1</th>\n",
       "      <th>0_pct</th>\n",
       "      <th>1_pct</th>\n",
       "    </tr>\n",
       "    <tr>\n",
       "      <th>converted</th>\n",
       "      <th></th>\n",
       "      <th></th>\n",
       "      <th></th>\n",
       "      <th></th>\n",
       "    </tr>\n",
       "  </thead>\n",
       "  <tbody>\n",
       "    <tr>\n",
       "      <th>0</th>\n",
       "      <td>92295</td>\n",
       "      <td>213705</td>\n",
       "      <td>92.799831</td>\n",
       "      <td>98.597885</td>\n",
       "    </tr>\n",
       "    <tr>\n",
       "      <th>1</th>\n",
       "      <td>7161</td>\n",
       "      <td>3039</td>\n",
       "      <td>7.200169</td>\n",
       "      <td>1.402115</td>\n",
       "    </tr>\n",
       "  </tbody>\n",
       "</table>\n",
       "</div>"
      ],
      "text/plain": [
       "new_user       0       1      0_pct      1_pct\n",
       "converted                                     \n",
       "0          92295  213705  92.799831  98.597885\n",
       "1           7161    3039   7.200169   1.402115"
      ]
     },
     "execution_count": 24,
     "metadata": {},
     "output_type": "execute_result"
    }
   ],
   "source": [
    "#cross-tab: new_user on conversion\n",
    "crosstab_pcts(df, 'converted', 'new_user')"
   ]
  },
  {
   "cell_type": "code",
   "execution_count": 25,
   "metadata": {
    "collapsed": false
   },
   "outputs": [
    {
     "data": {
      "text/html": [
       "<div>\n",
       "<table border=\"1\" class=\"dataframe\">\n",
       "  <thead>\n",
       "    <tr style=\"text-align: right;\">\n",
       "      <th>source</th>\n",
       "      <th>Ads</th>\n",
       "      <th>Direct</th>\n",
       "      <th>Seo</th>\n",
       "      <th>Ads_pct</th>\n",
       "      <th>Direct_pct</th>\n",
       "      <th>Seo_pct</th>\n",
       "    </tr>\n",
       "    <tr>\n",
       "      <th>converted</th>\n",
       "      <th></th>\n",
       "      <th></th>\n",
       "      <th></th>\n",
       "      <th></th>\n",
       "      <th></th>\n",
       "      <th></th>\n",
       "    </tr>\n",
       "  </thead>\n",
       "  <tbody>\n",
       "    <tr>\n",
       "      <th>0</th>\n",
       "      <td>85680</td>\n",
       "      <td>70380</td>\n",
       "      <td>149940</td>\n",
       "      <td>96.551724</td>\n",
       "      <td>97.183099</td>\n",
       "      <td>96.710526</td>\n",
       "    </tr>\n",
       "    <tr>\n",
       "      <th>1</th>\n",
       "      <td>3060</td>\n",
       "      <td>2040</td>\n",
       "      <td>5100</td>\n",
       "      <td>3.448276</td>\n",
       "      <td>2.816901</td>\n",
       "      <td>3.289474</td>\n",
       "    </tr>\n",
       "  </tbody>\n",
       "</table>\n",
       "</div>"
      ],
      "text/plain": [
       "source       Ads  Direct     Seo    Ads_pct  Direct_pct    Seo_pct\n",
       "converted                                                         \n",
       "0          85680   70380  149940  96.551724   97.183099  96.710526\n",
       "1           3060    2040    5100   3.448276    2.816901   3.289474"
      ]
     },
     "execution_count": 25,
     "metadata": {},
     "output_type": "execute_result"
    }
   ],
   "source": [
    "#cross-tab: source on conversion\n",
    "crosstab_pcts(df, 'converted', 'source')"
   ]
  },
  {
   "cell_type": "code",
   "execution_count": 26,
   "metadata": {
    "collapsed": false
   },
   "outputs": [
    {
     "data": {
      "text/html": [
       "<div>\n",
       "<table border=\"1\" class=\"dataframe\">\n",
       "  <thead>\n",
       "    <tr style=\"text-align: right;\">\n",
       "      <th>country</th>\n",
       "      <th>China</th>\n",
       "      <th>Germany</th>\n",
       "      <th>UK</th>\n",
       "      <th>US</th>\n",
       "      <th>China_pct</th>\n",
       "      <th>Germany_pct</th>\n",
       "      <th>UK_pct</th>\n",
       "      <th>US_pct</th>\n",
       "    </tr>\n",
       "    <tr>\n",
       "      <th>converted</th>\n",
       "      <th></th>\n",
       "      <th></th>\n",
       "      <th></th>\n",
       "      <th></th>\n",
       "      <th></th>\n",
       "      <th></th>\n",
       "      <th></th>\n",
       "      <th></th>\n",
       "    </tr>\n",
       "  </thead>\n",
       "  <tbody>\n",
       "    <tr>\n",
       "      <th>0</th>\n",
       "      <td>76500</td>\n",
       "      <td>12240</td>\n",
       "      <td>45900</td>\n",
       "      <td>171360</td>\n",
       "      <td>99.866844</td>\n",
       "      <td>93.75</td>\n",
       "      <td>94.736842</td>\n",
       "      <td>96.219931</td>\n",
       "    </tr>\n",
       "    <tr>\n",
       "      <th>1</th>\n",
       "      <td>102</td>\n",
       "      <td>816</td>\n",
       "      <td>2550</td>\n",
       "      <td>6732</td>\n",
       "      <td>0.133156</td>\n",
       "      <td>6.25</td>\n",
       "      <td>5.263158</td>\n",
       "      <td>3.780069</td>\n",
       "    </tr>\n",
       "  </tbody>\n",
       "</table>\n",
       "</div>"
      ],
      "text/plain": [
       "country    China  Germany     UK      US  China_pct  Germany_pct     UK_pct  \\\n",
       "converted                                                                     \n",
       "0          76500    12240  45900  171360  99.866844        93.75  94.736842   \n",
       "1            102      816   2550    6732   0.133156         6.25   5.263158   \n",
       "\n",
       "country       US_pct  \n",
       "converted             \n",
       "0          96.219931  \n",
       "1           3.780069  "
      ]
     },
     "execution_count": 26,
     "metadata": {},
     "output_type": "execute_result"
    }
   ],
   "source": [
    "#cross-tab: country on conversion\n",
    "crosstab_pcts(df, 'converted', 'country')"
   ]
  },
  {
   "cell_type": "code",
   "execution_count": 27,
   "metadata": {
    "collapsed": false
   },
   "outputs": [
    {
     "data": {
      "text/html": [
       "<div>\n",
       "<table border=\"1\" class=\"dataframe\">\n",
       "  <thead>\n",
       "    <tr style=\"text-align: right;\">\n",
       "      <th>country</th>\n",
       "      <th>China</th>\n",
       "      <th>Germany</th>\n",
       "      <th>UK</th>\n",
       "      <th>US</th>\n",
       "      <th>China_pct</th>\n",
       "      <th>Germany_pct</th>\n",
       "      <th>UK_pct</th>\n",
       "      <th>US_pct</th>\n",
       "    </tr>\n",
       "    <tr>\n",
       "      <th>source</th>\n",
       "      <th></th>\n",
       "      <th></th>\n",
       "      <th></th>\n",
       "      <th></th>\n",
       "      <th></th>\n",
       "      <th></th>\n",
       "      <th></th>\n",
       "      <th></th>\n",
       "    </tr>\n",
       "  </thead>\n",
       "  <tbody>\n",
       "    <tr>\n",
       "      <th>Ads</th>\n",
       "      <td>21561</td>\n",
       "      <td>3760</td>\n",
       "      <td>13518</td>\n",
       "      <td>49901</td>\n",
       "      <td>28.146785</td>\n",
       "      <td>28.799020</td>\n",
       "      <td>27.900929</td>\n",
       "      <td>28.019788</td>\n",
       "    </tr>\n",
       "    <tr>\n",
       "      <th>Direct</th>\n",
       "      <td>17463</td>\n",
       "      <td>2864</td>\n",
       "      <td>11131</td>\n",
       "      <td>40962</td>\n",
       "      <td>22.797055</td>\n",
       "      <td>21.936275</td>\n",
       "      <td>22.974200</td>\n",
       "      <td>23.000472</td>\n",
       "    </tr>\n",
       "    <tr>\n",
       "      <th>Seo</th>\n",
       "      <td>37578</td>\n",
       "      <td>6432</td>\n",
       "      <td>23801</td>\n",
       "      <td>87229</td>\n",
       "      <td>49.056160</td>\n",
       "      <td>49.264706</td>\n",
       "      <td>49.124871</td>\n",
       "      <td>48.979741</td>\n",
       "    </tr>\n",
       "  </tbody>\n",
       "</table>\n",
       "</div>"
      ],
      "text/plain": [
       "country  China  Germany     UK     US  China_pct  Germany_pct     UK_pct  \\\n",
       "source                                                                     \n",
       "Ads      21561     3760  13518  49901  28.146785    28.799020  27.900929   \n",
       "Direct   17463     2864  11131  40962  22.797055    21.936275  22.974200   \n",
       "Seo      37578     6432  23801  87229  49.056160    49.264706  49.124871   \n",
       "\n",
       "country     US_pct  \n",
       "source              \n",
       "Ads      28.019788  \n",
       "Direct   23.000472  \n",
       "Seo      48.979741  "
      ]
     },
     "execution_count": 27,
     "metadata": {},
     "output_type": "execute_result"
    }
   ],
   "source": [
    "#cross-tab: country on source\n",
    "ctab = pd.crosstab(df['source'], df['country'])\n",
    "for field in ctab.columns:\n",
    "    ctab['%s_pct' % field] = ctab[field]/ctab[field].sum()*100\n",
    "ctab"
   ]
  },
  {
   "cell_type": "code",
   "execution_count": 29,
   "metadata": {
    "collapsed": true
   },
   "outputs": [],
   "source": [
    "# create dummy variables for categorical variables (e.g., country, source)\n",
    "# see http://pandas.pydata.org/pandas-docs/stable/generated/pandas.get_dummies.html\n",
    "country_dummies = pd.get_dummies(df['country'])\n",
    "source_dummies = pd.get_dummies(df['source'])\n",
    "merged = df.join(country_dummies.ix[:, 'Germany':]) # exclude China dummy\n",
    "merged = merged.join(source_dummies.ix[:, 'Direct':]) # exclude Ads dummy"
   ]
  },
  {
   "cell_type": "code",
   "execution_count": 30,
   "metadata": {
    "collapsed": false
   },
   "outputs": [
    {
     "name": "stdout",
     "output_type": "stream",
     "text": [
      "Optimization terminated successfully.\n",
      "         Current function value: 0.057774\n",
      "         Iterations 10\n",
      "                           Logit Regression Results                           \n",
      "==============================================================================\n",
      "Dep. Variable:              converted   No. Observations:               316200\n",
      "Model:                          Logit   Df Residuals:                   316192\n",
      "Method:                           MLE   Df Model:                            7\n",
      "Date:                Mon, 30 Jan 2017   Pseudo R-squ.:                  0.5946\n",
      "Time:                        09:58:39   Log-Likelihood:                -18268.\n",
      "converged:                       True   LL-Null:                       -45060.\n",
      "                                        LLR p-value:                     0.000\n",
      "=======================================================================================\n",
      "                          coef    std err          z      P>|z|      [95.0% Conf. Int.]\n",
      "---------------------------------------------------------------------------------------\n",
      "age                    -0.2486      0.002   -128.310      0.000        -0.252    -0.245\n",
      "new_user               -2.2197      0.030    -73.224      0.000        -2.279    -2.160\n",
      "total_pages_visited     0.5964      0.005    132.249      0.000         0.588     0.605\n",
      "Germany                 0.4469      0.067      6.626      0.000         0.315     0.579\n",
      "UK                      0.2418      0.045      5.409      0.000         0.154     0.329\n",
      "US                     -0.1293      0.036     -3.604      0.000        -0.200    -0.059\n",
      "Direct                 -1.0610      0.040    -26.400      0.000        -1.140    -0.982\n",
      "Seo                    -0.8955      0.031    -28.733      0.000        -0.957    -0.834\n",
      "=======================================================================================\n",
      "\n",
      "Possibly complete quasi-separation: A fraction 0.23 of observations can be\n",
      "perfectly predicted. This might indicate that there is complete\n",
      "quasi-separation. In this case some parameters will not be identified.\n"
     ]
    }
   ],
   "source": [
    "# apply logistic regression on 'converted' field\n",
    "# see http://blog.yhat.com/posts/logistic-regression-and-python.html\n",
    "train_cols = ['age','new_user','total_pages_visited','Germany','UK','US','Direct','Seo']\n",
    "logit = sm.Logit(merged['converted'], merged[train_cols])\n",
    "result = logit.fit()\n",
    "print(result.summary())"
   ]
  },
  {
   "cell_type": "code",
   "execution_count": 35,
   "metadata": {
    "collapsed": false
   },
   "outputs": [
    {
     "name": "stdout",
     "output_type": "stream",
     "text": [
      "age                    0.779891\n",
      "new_user               0.108647\n",
      "total_pages_visited    1.815574\n",
      "Germany                1.563388\n",
      "UK                     1.273494\n",
      "US                     0.878716\n",
      "Direct                 0.346108\n",
      "Seo                    0.408389\n",
      "dtype: float64\n"
     ]
    }
   ],
   "source": [
    "# print the log odds ratio (of the coefficients)\n",
    "print(np.exp(result.params))"
   ]
  },
  {
   "cell_type": "markdown",
   "metadata": {},
   "source": [
    "#### Findings\n",
    "- The number of pages visited by the user in a session had the strongest positive effect on conversion rates.\n",
    "- On country vs. likelihood of conversion: the base (reference) case was China, which proportionally had the fewest conversions, so it was not surprising that being from Germany, the UK, and the US all had positive effects. Moreover, Germany had relatively more conversions and fewer users overall, which carried more weight on the fit.\n",
    "- Being a new user has a 1 in 11 chance in converting (vs. being a repeat visitor).\n",
    "- Direct sourcing and SEO both had negative effects on conversion rates, when compared to the base case (Ads)."
   ]
  },
  {
   "cell_type": "code",
   "execution_count": 32,
   "metadata": {
    "collapsed": false
   },
   "outputs": [
    {
     "data": {
      "text/plain": [
       "count    316200.000000\n",
       "mean          4.872966\n",
       "std           3.341104\n",
       "min           1.000000\n",
       "25%           2.000000\n",
       "50%           4.000000\n",
       "75%           7.000000\n",
       "max          29.000000\n",
       "Name: total_pages_visited, dtype: float64"
      ]
     },
     "execution_count": 32,
     "metadata": {},
     "output_type": "execute_result"
    }
   ],
   "source": [
    "# study number of pages visited: bin/stratify users into four groups based on # pages visited (1,2,3-6,7+)\n",
    "# see pandas.cut() http://pandas.pydata.org/pandas-docs/stable/generated/pandas.cut.html\n",
    "df.total_pages_visited.describe()"
   ]
  }
 ],
 "metadata": {
  "anaconda-cloud": {},
  "kernelspec": {
   "display_name": "Python [conda env:py3]",
   "language": "python",
   "name": "conda-env-py3-py"
  },
  "language_info": {
   "codemirror_mode": {
    "name": "ipython",
    "version": 3
   },
   "file_extension": ".py",
   "mimetype": "text/x-python",
   "name": "python",
   "nbconvert_exporter": "python",
   "pygments_lexer": "ipython3",
   "version": "3.5.2"
  }
 },
 "nbformat": 4,
 "nbformat_minor": 1
}

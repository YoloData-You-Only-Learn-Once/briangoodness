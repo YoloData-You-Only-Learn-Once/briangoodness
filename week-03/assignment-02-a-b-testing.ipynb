{
 "cells": [
  {
   "cell_type": "markdown",
   "metadata": {},
   "source": [
    "### Data Science Interviews Group Study (Spring 2017)\n",
    "- Brian Goodness\n",
    "- Assignment 2: A/B Testing"
   ]
  },
  {
   "cell_type": "markdown",
   "metadata": {},
   "source": [
    "# Objectives:\n",
    "\n",
    "- Confirm that the test (i.e., each country has its own translation by a local) is actually negative. That is, it appears that the old version of the site with just one translation across Spain and LatAm performs better\n",
    "\n",
    "- Explain why that might be happening. Are the localized translations really worse?\n",
    "\n",
    "- If you identified what was wrong, design an algorithm that would return FALSE if the same problem is happening in the future and TRUE if everything is good and the results can be trusted."
   ]
  },
  {
   "cell_type": "code",
   "execution_count": 2,
   "metadata": {
    "collapsed": false
   },
   "outputs": [],
   "source": [
    "import pandas as pd\n",
    "#import statsmodels.api as sm\n",
    "import pylab as pl\n",
    "import numpy as np"
   ]
  },
  {
   "cell_type": "markdown",
   "metadata": {},
   "source": [
    "### load data; inspect"
   ]
  },
  {
   "cell_type": "code",
   "execution_count": 3,
   "metadata": {
    "collapsed": false
   },
   "outputs": [],
   "source": [
    "test_data = pd.read_csv('Translation_Test/test_table.csv')\n",
    "user_data = pd.read_csv('Translation_Test/user_table.csv')"
   ]
  },
  {
   "cell_type": "code",
   "execution_count": 4,
   "metadata": {
    "collapsed": false
   },
   "outputs": [
    {
     "name": "stdout",
     "output_type": "stream",
     "text": [
      "453321\n"
     ]
    },
    {
     "data": {
      "text/html": [
       "<div>\n",
       "<table border=\"1\" class=\"dataframe\">\n",
       "  <thead>\n",
       "    <tr style=\"text-align: right;\">\n",
       "      <th></th>\n",
       "      <th>user_id</th>\n",
       "      <th>date</th>\n",
       "      <th>source</th>\n",
       "      <th>device</th>\n",
       "      <th>browser_language</th>\n",
       "      <th>ads_channel</th>\n",
       "      <th>browser</th>\n",
       "      <th>conversion</th>\n",
       "      <th>test</th>\n",
       "    </tr>\n",
       "  </thead>\n",
       "  <tbody>\n",
       "    <tr>\n",
       "      <th>0</th>\n",
       "      <td>315281</td>\n",
       "      <td>2015-12-03</td>\n",
       "      <td>Direct</td>\n",
       "      <td>Web</td>\n",
       "      <td>ES</td>\n",
       "      <td>NaN</td>\n",
       "      <td>IE</td>\n",
       "      <td>1</td>\n",
       "      <td>0</td>\n",
       "    </tr>\n",
       "    <tr>\n",
       "      <th>1</th>\n",
       "      <td>497851</td>\n",
       "      <td>2015-12-04</td>\n",
       "      <td>Ads</td>\n",
       "      <td>Web</td>\n",
       "      <td>ES</td>\n",
       "      <td>Google</td>\n",
       "      <td>IE</td>\n",
       "      <td>0</td>\n",
       "      <td>1</td>\n",
       "    </tr>\n",
       "    <tr>\n",
       "      <th>2</th>\n",
       "      <td>848402</td>\n",
       "      <td>2015-12-04</td>\n",
       "      <td>Ads</td>\n",
       "      <td>Web</td>\n",
       "      <td>ES</td>\n",
       "      <td>Facebook</td>\n",
       "      <td>Chrome</td>\n",
       "      <td>0</td>\n",
       "      <td>0</td>\n",
       "    </tr>\n",
       "    <tr>\n",
       "      <th>3</th>\n",
       "      <td>290051</td>\n",
       "      <td>2015-12-03</td>\n",
       "      <td>Ads</td>\n",
       "      <td>Mobile</td>\n",
       "      <td>Other</td>\n",
       "      <td>Facebook</td>\n",
       "      <td>Android_App</td>\n",
       "      <td>0</td>\n",
       "      <td>1</td>\n",
       "    </tr>\n",
       "    <tr>\n",
       "      <th>4</th>\n",
       "      <td>548435</td>\n",
       "      <td>2015-11-30</td>\n",
       "      <td>Ads</td>\n",
       "      <td>Web</td>\n",
       "      <td>ES</td>\n",
       "      <td>Google</td>\n",
       "      <td>FireFox</td>\n",
       "      <td>0</td>\n",
       "      <td>1</td>\n",
       "    </tr>\n",
       "  </tbody>\n",
       "</table>\n",
       "</div>"
      ],
      "text/plain": [
       "   user_id        date  source  device browser_language ads_channel  \\\n",
       "0   315281  2015-12-03  Direct     Web               ES         NaN   \n",
       "1   497851  2015-12-04     Ads     Web               ES      Google   \n",
       "2   848402  2015-12-04     Ads     Web               ES    Facebook   \n",
       "3   290051  2015-12-03     Ads  Mobile            Other    Facebook   \n",
       "4   548435  2015-11-30     Ads     Web               ES      Google   \n",
       "\n",
       "       browser  conversion  test  \n",
       "0           IE           1     0  \n",
       "1           IE           0     1  \n",
       "2       Chrome           0     0  \n",
       "3  Android_App           0     1  \n",
       "4      FireFox           0     1  "
      ]
     },
     "execution_count": 4,
     "metadata": {},
     "output_type": "execute_result"
    }
   ],
   "source": [
    "print(len(test_data))\n",
    "test_data.head()"
   ]
  },
  {
   "cell_type": "code",
   "execution_count": 5,
   "metadata": {
    "collapsed": false
   },
   "outputs": [
    {
     "name": "stdout",
     "output_type": "stream",
     "text": [
      "452867\n"
     ]
    },
    {
     "data": {
      "text/html": [
       "<div>\n",
       "<table border=\"1\" class=\"dataframe\">\n",
       "  <thead>\n",
       "    <tr style=\"text-align: right;\">\n",
       "      <th></th>\n",
       "      <th>user_id</th>\n",
       "      <th>sex</th>\n",
       "      <th>age</th>\n",
       "      <th>country</th>\n",
       "    </tr>\n",
       "  </thead>\n",
       "  <tbody>\n",
       "    <tr>\n",
       "      <th>0</th>\n",
       "      <td>765821</td>\n",
       "      <td>M</td>\n",
       "      <td>20</td>\n",
       "      <td>Mexico</td>\n",
       "    </tr>\n",
       "    <tr>\n",
       "      <th>1</th>\n",
       "      <td>343561</td>\n",
       "      <td>F</td>\n",
       "      <td>27</td>\n",
       "      <td>Nicaragua</td>\n",
       "    </tr>\n",
       "    <tr>\n",
       "      <th>2</th>\n",
       "      <td>118744</td>\n",
       "      <td>M</td>\n",
       "      <td>23</td>\n",
       "      <td>Colombia</td>\n",
       "    </tr>\n",
       "    <tr>\n",
       "      <th>3</th>\n",
       "      <td>987753</td>\n",
       "      <td>F</td>\n",
       "      <td>27</td>\n",
       "      <td>Venezuela</td>\n",
       "    </tr>\n",
       "    <tr>\n",
       "      <th>4</th>\n",
       "      <td>554597</td>\n",
       "      <td>F</td>\n",
       "      <td>20</td>\n",
       "      <td>Spain</td>\n",
       "    </tr>\n",
       "  </tbody>\n",
       "</table>\n",
       "</div>"
      ],
      "text/plain": [
       "   user_id sex  age    country\n",
       "0   765821   M   20     Mexico\n",
       "1   343561   F   27  Nicaragua\n",
       "2   118744   M   23   Colombia\n",
       "3   987753   F   27  Venezuela\n",
       "4   554597   F   20      Spain"
      ]
     },
     "execution_count": 5,
     "metadata": {},
     "output_type": "execute_result"
    }
   ],
   "source": [
    "print(len(user_data))\n",
    "user_data.head()"
   ]
  },
  {
   "cell_type": "code",
   "execution_count": 6,
   "metadata": {
    "collapsed": false
   },
   "outputs": [
    {
     "name": "stdout",
     "output_type": "stream",
     "text": [
      "452867\n"
     ]
    }
   ],
   "source": [
    "# merge data\n",
    "merged = test_data.merge(user_data, left_on='user_id', right_on='user_id')\n",
    "print(len(merged))"
   ]
  },
  {
   "cell_type": "code",
   "execution_count": 7,
   "metadata": {
    "collapsed": false
   },
   "outputs": [
    {
     "data": {
      "text/plain": [
       "user_id              int64\n",
       "date                object\n",
       "source              object\n",
       "device              object\n",
       "browser_language    object\n",
       "ads_channel         object\n",
       "browser             object\n",
       "conversion           int64\n",
       "test                 int64\n",
       "sex                 object\n",
       "age                  int64\n",
       "country             object\n",
       "dtype: object"
      ]
     },
     "execution_count": 7,
     "metadata": {},
     "output_type": "execute_result"
    }
   ],
   "source": [
    "merged.dtypes"
   ]
  },
  {
   "cell_type": "code",
   "execution_count": 8,
   "metadata": {
    "collapsed": false
   },
   "outputs": [],
   "source": [
    "# tabulate method\n",
    "def tab(frame, field):\n",
    "    result = pd.DataFrame(frame[field].value_counts())\n",
    "    result['percent'] = result[field]/result[field].sum()*100\n",
    "    return result"
   ]
  },
  {
   "cell_type": "code",
   "execution_count": 9,
   "metadata": {
    "collapsed": true
   },
   "outputs": [],
   "source": [
    "# crosstab method (to include percentages)\n",
    "def crosstab_pcts(frame, row, column):\n",
    "    ctab = pd.crosstab(frame[row], frame[column])\n",
    "    for field in ctab.columns:\n",
    "        ctab['%s_pct' % field] = ctab[field]/ctab[field].sum()*100\n",
    "    return ctab"
   ]
  },
  {
   "cell_type": "code",
   "execution_count": 10,
   "metadata": {
    "collapsed": false
   },
   "outputs": [
    {
     "data": {
      "text/html": [
       "<div>\n",
       "<table border=\"1\" class=\"dataframe\">\n",
       "  <thead>\n",
       "    <tr style=\"text-align: right;\">\n",
       "      <th>test</th>\n",
       "      <th>0</th>\n",
       "      <th>1</th>\n",
       "      <th>0_pct</th>\n",
       "      <th>1_pct</th>\n",
       "    </tr>\n",
       "    <tr>\n",
       "      <th>conversion</th>\n",
       "      <th></th>\n",
       "      <th></th>\n",
       "      <th></th>\n",
       "      <th></th>\n",
       "    </tr>\n",
       "  </thead>\n",
       "  <tbody>\n",
       "    <tr>\n",
       "      <th>0</th>\n",
       "      <td>224016</td>\n",
       "      <td>206407</td>\n",
       "      <td>94.484443</td>\n",
       "      <td>95.658884</td>\n",
       "    </tr>\n",
       "    <tr>\n",
       "      <th>1</th>\n",
       "      <td>13077</td>\n",
       "      <td>9367</td>\n",
       "      <td>5.515557</td>\n",
       "      <td>4.341116</td>\n",
       "    </tr>\n",
       "  </tbody>\n",
       "</table>\n",
       "</div>"
      ],
      "text/plain": [
       "test             0       1      0_pct      1_pct\n",
       "conversion                                      \n",
       "0           224016  206407  94.484443  95.658884\n",
       "1            13077    9367   5.515557   4.341116"
      ]
     },
     "execution_count": 10,
     "metadata": {},
     "output_type": "execute_result"
    }
   ],
   "source": [
    "crosstab_pcts(merged, 'conversion', 'test')"
   ]
  },
  {
   "cell_type": "code",
   "execution_count": 66,
   "metadata": {
    "collapsed": false
   },
   "outputs": [
    {
     "data": {
      "text/html": [
       "<div>\n",
       "<table border=\"1\" class=\"dataframe\">\n",
       "  <thead>\n",
       "    <tr style=\"text-align: right;\">\n",
       "      <th>test</th>\n",
       "      <th>0</th>\n",
       "      <th>1</th>\n",
       "      <th>0_pct</th>\n",
       "      <th>1_pct</th>\n",
       "    </tr>\n",
       "    <tr>\n",
       "      <th>conversion</th>\n",
       "      <th></th>\n",
       "      <th></th>\n",
       "      <th></th>\n",
       "      <th></th>\n",
       "    </tr>\n",
       "  </thead>\n",
       "  <tbody>\n",
       "    <tr>\n",
       "      <th>0</th>\n",
       "      <td>410</td>\n",
       "      <td>3671</td>\n",
       "      <td>98.795181</td>\n",
       "      <td>98.70933</td>\n",
       "    </tr>\n",
       "    <tr>\n",
       "      <th>1</th>\n",
       "      <td>5</td>\n",
       "      <td>48</td>\n",
       "      <td>1.204819</td>\n",
       "      <td>1.29067</td>\n",
       "    </tr>\n",
       "  </tbody>\n",
       "</table>\n",
       "</div>"
      ],
      "text/plain": [
       "test          0     1      0_pct     1_pct\n",
       "conversion                                \n",
       "0           410  3671  98.795181  98.70933\n",
       "1             5    48   1.204819   1.29067"
      ]
     },
     "execution_count": 66,
     "metadata": {},
     "output_type": "execute_result"
    }
   ],
   "source": [
    "crosstab_pcts(merged[merged.country.str.contains('Uruguay')], 'conversion', 'test')"
   ]
  },
  {
   "cell_type": "code",
   "execution_count": 68,
   "metadata": {
    "collapsed": false
   },
   "outputs": [
    {
     "data": {
      "text/html": [
       "<div>\n",
       "<table border=\"1\" class=\"dataframe\">\n",
       "  <thead>\n",
       "    <tr style=\"text-align: right;\">\n",
       "      <th>test</th>\n",
       "      <th>0</th>\n",
       "      <th>1</th>\n",
       "      <th>0_pct</th>\n",
       "      <th>1_pct</th>\n",
       "    </tr>\n",
       "    <tr>\n",
       "      <th>browser_language</th>\n",
       "      <th></th>\n",
       "      <th></th>\n",
       "      <th></th>\n",
       "      <th></th>\n",
       "    </tr>\n",
       "  </thead>\n",
       "  <tbody>\n",
       "    <tr>\n",
       "      <th>EN</th>\n",
       "      <td>1291</td>\n",
       "      <td>5128</td>\n",
       "      <td>13.798632</td>\n",
       "      <td>13.719667</td>\n",
       "    </tr>\n",
       "    <tr>\n",
       "      <th>ES</th>\n",
       "      <td>7793</td>\n",
       "      <td>31204</td>\n",
       "      <td>83.294143</td>\n",
       "      <td>83.484496</td>\n",
       "    </tr>\n",
       "    <tr>\n",
       "      <th>Other</th>\n",
       "      <td>272</td>\n",
       "      <td>1045</td>\n",
       "      <td>2.907225</td>\n",
       "      <td>2.795837</td>\n",
       "    </tr>\n",
       "  </tbody>\n",
       "</table>\n",
       "</div>"
      ],
      "text/plain": [
       "test                 0      1      0_pct      1_pct\n",
       "browser_language                                   \n",
       "EN                1291   5128  13.798632  13.719667\n",
       "ES                7793  31204  83.294143  83.484496\n",
       "Other              272   1045   2.907225   2.795837"
      ]
     },
     "execution_count": 68,
     "metadata": {},
     "output_type": "execute_result"
    }
   ],
   "source": [
    "crosstab_pcts(merged[merged.country.str.contains('Argentina')], 'browser_language', 'test')"
   ]
  },
  {
   "cell_type": "code",
   "execution_count": 61,
   "metadata": {
    "collapsed": false
   },
   "outputs": [
    {
     "name": "stdout",
     "output_type": "stream",
     "text": [
      "\n",
      "Country: Spain\n",
      "browser_language    EN     ES  Other     EN_pct     ES_pct  Other_pct\n",
      "conversion                                                           \n",
      "0                 6634  39703   1317  92.190106  92.020118  91.458333\n",
      "1                  562   3443    123   7.809894   7.979882   8.541667\n",
      "\n",
      "Country: Mexico\n",
      "browser_language     EN      ES  Other     EN_pct     ES_pct  Other_pct\n",
      "conversion                                                             \n",
      "0                 16913  101683   3420  95.075609  94.954523  94.763092\n",
      "1                   876    5403    189   4.924391   5.045477   5.236908\n",
      "\n",
      "Country: Venezuela\n",
      "browser_language    EN     ES  Other    EN_pct     ES_pct  Other_pct\n",
      "conversion                                                          \n",
      "0                 4237  25389    836  95.17071  94.972506  96.202532\n",
      "1                  215   1344     33   4.82929   5.027494   3.797468\n",
      "\n",
      "Country: Bolivia\n",
      "browser_language    EN    ES  Other     EN_pct     ES_pct  Other_pct\n",
      "conversion                                                          \n",
      "0                 1491  8796    296  95.822622  95.050789  94.267516\n",
      "1                   65   458     18   4.177378   4.949211   5.732484\n",
      "\n",
      "Country: Colombia\n",
      "browser_language    EN     ES  Other     EN_pct     ES_pct  Other_pct\n",
      "conversion                                                           \n",
      "0                 7321  42520   1444  95.077922  94.804905  95.629139\n",
      "1                  379   2330     66   4.922078   5.195095   4.370861\n",
      "\n",
      "Country: Uruguay\n",
      "browser_language   EN    ES  Other     EN_pct     ES_pct  Other_pct\n",
      "conversion                                                         \n",
      "0                 557  3417    107  98.236332  98.928778  94.690265\n",
      "1                  10    37      6   1.763668   1.071222   5.309735\n",
      "\n",
      "Country: El Salvador\n",
      "browser_language    EN    ES  Other     EN_pct     ES_pct  Other_pct\n",
      "conversion                                                          \n",
      "0                 1108  6424    228  95.270851  94.819188  96.202532\n",
      "1                   55   351      9   4.729149   5.180812   3.797468\n",
      "\n",
      "Country: Nicaragua\n",
      "browser_language   EN    ES  Other     EN_pct     ES_pct  Other_pct\n",
      "conversion                                                         \n",
      "0                 871  5330    163  94.983642  94.570617  95.882353\n",
      "1                  46   306      7   5.016358   5.429383   4.117647\n",
      "\n",
      "Country: Peru\n",
      "browser_language    EN     ES  Other     EN_pct     ES_pct  Other_pct\n",
      "conversion                                                           \n",
      "0                 4486  26602    886  94.801352  95.007143  94.860814\n",
      "1                  246   1398     48   5.198648   4.992857   5.139186\n",
      "\n",
      "Country: Costa Rica\n",
      "browser_language   EN    ES  Other     EN_pct     ES_pct  Other_pct\n",
      "conversion                                                         \n",
      "0                 736  4149    140  94.723295  94.769301  90.909091\n",
      "1                  41   229     14   5.276705   5.230699   9.090909\n",
      "\n",
      "Country: Chile\n",
      "browser_language    EN     ES  Other     EN_pct     ES_pct  Other_pct\n",
      "conversion                                                           \n",
      "0                 2585  15628    543  94.584705  95.101321  95.096322\n",
      "1                  148    805     28   5.415295   4.898679   4.903678\n",
      "\n",
      "Country: Argentina\n",
      "browser_language    EN     ES  Other   EN_pct     ES_pct  Other_pct\n",
      "conversion                                                         \n",
      "0                 6339  38438   1302  98.7537  98.566556  98.861048\n",
      "1                   80    559     15   1.2463   1.433444   1.138952\n",
      "\n",
      "Country: Ecuador\n",
      "browser_language    EN     ES  Other     EN_pct     ES_pct  Other_pct\n",
      "conversion                                                           \n",
      "0                 2086  12604    425  95.469108  95.038456  94.866071\n",
      "1                   99    658     23   4.530892   4.961544   5.133929\n",
      "\n",
      "Country: Guatemala\n",
      "browser_language    EN     ES  Other     EN_pct     ES_pct  Other_pct\n",
      "conversion                                                           \n",
      "0                 2002  11972    400  95.515267  94.940523  95.465394\n",
      "1                   94    638     19   4.484733   5.059477   4.534606\n",
      "\n",
      "Country: Honduras\n",
      "browser_language    EN    ES  Other     EN_pct     ES_pct  Other_pct\n",
      "conversion                                                          \n",
      "0                 1148  6810    188  95.190713  95.018836  96.410256\n",
      "1                   58   357      7   4.809287   4.981164   3.589744\n",
      "\n",
      "Country: Paraguay\n",
      "browser_language   EN    ES  Other     EN_pct     ES_pct  Other_pct\n",
      "conversion                                                         \n",
      "0                 992  5802    194  94.656489  95.286582  92.380952\n",
      "1                  56   287     16   5.343511   4.713418   7.619048\n",
      "\n",
      "Country: Panama\n",
      "browser_language   EN    ES  Other     EN_pct     ES_pct  Other_pct\n",
      "conversion                                                         \n",
      "0                 521  3126    114  95.948435  95.015198  96.610169\n",
      "1                  22   164      4   4.051565   4.984802   3.389831\n"
     ]
    }
   ],
   "source": [
    "for country in merged.country.unique():\n",
    "    print('\\nCountry: %s' % country)\n",
    "    print(crosstab_pcts(merged[merged.country.str.contains(country)], 'conversion', 'browser_language'))"
   ]
  },
  {
   "cell_type": "code",
   "execution_count": 11,
   "metadata": {
    "collapsed": false
   },
   "outputs": [
    {
     "data": {
      "text/html": [
       "<div>\n",
       "<table border=\"1\" class=\"dataframe\">\n",
       "  <thead>\n",
       "    <tr style=\"text-align: right;\">\n",
       "      <th>test</th>\n",
       "      <th>0</th>\n",
       "      <th>1</th>\n",
       "      <th>0_pct</th>\n",
       "      <th>1_pct</th>\n",
       "    </tr>\n",
       "    <tr>\n",
       "      <th>country</th>\n",
       "      <th></th>\n",
       "      <th></th>\n",
       "      <th></th>\n",
       "      <th></th>\n",
       "    </tr>\n",
       "  </thead>\n",
       "  <tbody>\n",
       "    <tr>\n",
       "      <th>Argentina</th>\n",
       "      <td>9356</td>\n",
       "      <td>37377</td>\n",
       "      <td>3.946131</td>\n",
       "      <td>17.322291</td>\n",
       "    </tr>\n",
       "    <tr>\n",
       "      <th>Bolivia</th>\n",
       "      <td>5550</td>\n",
       "      <td>5574</td>\n",
       "      <td>2.340854</td>\n",
       "      <td>2.583258</td>\n",
       "    </tr>\n",
       "    <tr>\n",
       "      <th>Chile</th>\n",
       "      <td>9853</td>\n",
       "      <td>9884</td>\n",
       "      <td>4.155753</td>\n",
       "      <td>4.580719</td>\n",
       "    </tr>\n",
       "    <tr>\n",
       "      <th>Colombia</th>\n",
       "      <td>27088</td>\n",
       "      <td>26972</td>\n",
       "      <td>11.425053</td>\n",
       "      <td>12.500116</td>\n",
       "    </tr>\n",
       "    <tr>\n",
       "      <th>Costa Rica</th>\n",
       "      <td>2660</td>\n",
       "      <td>2649</td>\n",
       "      <td>1.121923</td>\n",
       "      <td>1.227673</td>\n",
       "    </tr>\n",
       "    <tr>\n",
       "      <th>Ecuador</th>\n",
       "      <td>8036</td>\n",
       "      <td>7859</td>\n",
       "      <td>3.389387</td>\n",
       "      <td>3.642237</td>\n",
       "    </tr>\n",
       "    <tr>\n",
       "      <th>El Salvador</th>\n",
       "      <td>4108</td>\n",
       "      <td>4067</td>\n",
       "      <td>1.732653</td>\n",
       "      <td>1.884842</td>\n",
       "    </tr>\n",
       "    <tr>\n",
       "      <th>Guatemala</th>\n",
       "      <td>7622</td>\n",
       "      <td>7503</td>\n",
       "      <td>3.214772</td>\n",
       "      <td>3.477249</td>\n",
       "    </tr>\n",
       "    <tr>\n",
       "      <th>Honduras</th>\n",
       "      <td>4361</td>\n",
       "      <td>4207</td>\n",
       "      <td>1.839363</td>\n",
       "      <td>1.949725</td>\n",
       "    </tr>\n",
       "    <tr>\n",
       "      <th>Mexico</th>\n",
       "      <td>64209</td>\n",
       "      <td>64275</td>\n",
       "      <td>27.081778</td>\n",
       "      <td>29.788112</td>\n",
       "    </tr>\n",
       "    <tr>\n",
       "      <th>Nicaragua</th>\n",
       "      <td>3419</td>\n",
       "      <td>3304</td>\n",
       "      <td>1.442050</td>\n",
       "      <td>1.531232</td>\n",
       "    </tr>\n",
       "    <tr>\n",
       "      <th>Panama</th>\n",
       "      <td>1966</td>\n",
       "      <td>1985</td>\n",
       "      <td>0.829210</td>\n",
       "      <td>0.919944</td>\n",
       "    </tr>\n",
       "    <tr>\n",
       "      <th>Paraguay</th>\n",
       "      <td>3650</td>\n",
       "      <td>3697</td>\n",
       "      <td>1.539480</td>\n",
       "      <td>1.713367</td>\n",
       "    </tr>\n",
       "    <tr>\n",
       "      <th>Peru</th>\n",
       "      <td>16869</td>\n",
       "      <td>16797</td>\n",
       "      <td>7.114930</td>\n",
       "      <td>7.784534</td>\n",
       "    </tr>\n",
       "    <tr>\n",
       "      <th>Spain</th>\n",
       "      <td>51782</td>\n",
       "      <td>0</td>\n",
       "      <td>21.840375</td>\n",
       "      <td>0.000000</td>\n",
       "    </tr>\n",
       "    <tr>\n",
       "      <th>Uruguay</th>\n",
       "      <td>415</td>\n",
       "      <td>3719</td>\n",
       "      <td>0.175037</td>\n",
       "      <td>1.723563</td>\n",
       "    </tr>\n",
       "    <tr>\n",
       "      <th>Venezuela</th>\n",
       "      <td>16149</td>\n",
       "      <td>15905</td>\n",
       "      <td>6.811251</td>\n",
       "      <td>7.371138</td>\n",
       "    </tr>\n",
       "  </tbody>\n",
       "</table>\n",
       "</div>"
      ],
      "text/plain": [
       "test             0      1      0_pct      1_pct\n",
       "country                                        \n",
       "Argentina     9356  37377   3.946131  17.322291\n",
       "Bolivia       5550   5574   2.340854   2.583258\n",
       "Chile         9853   9884   4.155753   4.580719\n",
       "Colombia     27088  26972  11.425053  12.500116\n",
       "Costa Rica    2660   2649   1.121923   1.227673\n",
       "Ecuador       8036   7859   3.389387   3.642237\n",
       "El Salvador   4108   4067   1.732653   1.884842\n",
       "Guatemala     7622   7503   3.214772   3.477249\n",
       "Honduras      4361   4207   1.839363   1.949725\n",
       "Mexico       64209  64275  27.081778  29.788112\n",
       "Nicaragua     3419   3304   1.442050   1.531232\n",
       "Panama        1966   1985   0.829210   0.919944\n",
       "Paraguay      3650   3697   1.539480   1.713367\n",
       "Peru         16869  16797   7.114930   7.784534\n",
       "Spain        51782      0  21.840375   0.000000\n",
       "Uruguay        415   3719   0.175037   1.723563\n",
       "Venezuela    16149  15905   6.811251   7.371138"
      ]
     },
     "execution_count": 11,
     "metadata": {},
     "output_type": "execute_result"
    }
   ],
   "source": [
    "crosstab_pcts(merged, 'country', 'test')"
   ]
  },
  {
   "cell_type": "code",
   "execution_count": 33,
   "metadata": {
    "collapsed": false
   },
   "outputs": [
    {
     "data": {
      "text/html": [
       "<div>\n",
       "<table border=\"1\" class=\"dataframe\">\n",
       "  <thead>\n",
       "    <tr style=\"text-align: right;\">\n",
       "      <th>test</th>\n",
       "      <th>0</th>\n",
       "      <th>0_pct</th>\n",
       "    </tr>\n",
       "    <tr>\n",
       "      <th>conversion</th>\n",
       "      <th></th>\n",
       "      <th></th>\n",
       "    </tr>\n",
       "  </thead>\n",
       "  <tbody>\n",
       "    <tr>\n",
       "      <th>0</th>\n",
       "      <td>47654</td>\n",
       "      <td>92.028118</td>\n",
       "    </tr>\n",
       "    <tr>\n",
       "      <th>1</th>\n",
       "      <td>4128</td>\n",
       "      <td>7.971882</td>\n",
       "    </tr>\n",
       "  </tbody>\n",
       "</table>\n",
       "</div>"
      ],
      "text/plain": [
       "test            0      0_pct\n",
       "conversion                  \n",
       "0           47654  92.028118\n",
       "1            4128   7.971882"
      ]
     },
     "execution_count": 33,
     "metadata": {},
     "output_type": "execute_result"
    }
   ],
   "source": [
    "#cross-tab: Spain\n",
    "crosstab_pcts(merged[merged.country.str.contains('Spain')], 'conversion', 'test')"
   ]
  },
  {
   "cell_type": "code",
   "execution_count": 40,
   "metadata": {
    "collapsed": false
   },
   "outputs": [
    {
     "data": {
      "text/html": [
       "<div>\n",
       "<table border=\"1\" class=\"dataframe\">\n",
       "  <thead>\n",
       "    <tr style=\"text-align: right;\">\n",
       "      <th>test</th>\n",
       "      <th>0</th>\n",
       "      <th>1</th>\n",
       "      <th>0_pct</th>\n",
       "      <th>1_pct</th>\n",
       "    </tr>\n",
       "    <tr>\n",
       "      <th>conversion</th>\n",
       "      <th></th>\n",
       "      <th></th>\n",
       "      <th></th>\n",
       "      <th></th>\n",
       "    </tr>\n",
       "  </thead>\n",
       "  <tbody>\n",
       "    <tr>\n",
       "      <th>0</th>\n",
       "      <td>176362</td>\n",
       "      <td>206407</td>\n",
       "      <td>95.170821</td>\n",
       "      <td>95.658884</td>\n",
       "    </tr>\n",
       "    <tr>\n",
       "      <th>1</th>\n",
       "      <td>8949</td>\n",
       "      <td>9367</td>\n",
       "      <td>4.829179</td>\n",
       "      <td>4.341116</td>\n",
       "    </tr>\n",
       "  </tbody>\n",
       "</table>\n",
       "</div>"
      ],
      "text/plain": [
       "test             0       1      0_pct      1_pct\n",
       "conversion                                      \n",
       "0           176362  206407  95.170821  95.658884\n",
       "1             8949    9367   4.829179   4.341116"
      ]
     },
     "execution_count": 40,
     "metadata": {},
     "output_type": "execute_result"
    }
   ],
   "source": [
    "#cross-tab: Rest of World\n",
    "non_spain = merged[~merged.country.str.contains('Spain')]\n",
    "crosstab_pcts(non_spain, 'conversion', 'test')"
   ]
  },
  {
   "cell_type": "code",
   "execution_count": 44,
   "metadata": {
    "collapsed": false
   },
   "outputs": [
    {
     "data": {
      "text/plain": [
       "Ttest_indResult(statistic=7.3822521630539679, pvalue=1.559329277881674e-13)"
      ]
     },
     "execution_count": 44,
     "metadata": {},
     "output_type": "execute_result"
    }
   ],
   "source": [
    "# complete t-test\n",
    "from scipy.stats import ttest_ind\n",
    "\n",
    "control = non_spain[non_spain['test']==0]\n",
    "test = non_spain[non_spain['test']==1]\n",
    "\n",
    "ttest_ind(control['conversion'], test['conversion'])"
   ]
  },
  {
   "cell_type": "code",
   "execution_count": null,
   "metadata": {
    "collapsed": true
   },
   "outputs": [],
   "source": []
  }
 ],
 "metadata": {
  "anaconda-cloud": {},
  "kernelspec": {
   "display_name": "Python [conda env:py3]",
   "language": "python",
   "name": "conda-env-py3-py"
  },
  "language_info": {
   "codemirror_mode": {
    "name": "ipython",
    "version": 3
   },
   "file_extension": ".py",
   "mimetype": "text/x-python",
   "name": "python",
   "nbconvert_exporter": "python",
   "pygments_lexer": "ipython3",
   "version": "3.5.2"
  }
 },
 "nbformat": 4,
 "nbformat_minor": 1
}
